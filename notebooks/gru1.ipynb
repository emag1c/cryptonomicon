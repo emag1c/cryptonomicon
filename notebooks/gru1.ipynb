{
 "cells": [
  {
   "cell_type": "markdown",
   "metadata": {
    "pycharm": {
     "name": "#%% md\n"
    }
   },
   "source": [
    "## Set up the imports"
   ]
  },
  {
   "cell_type": "code",
   "execution_count": 514,
   "metadata": {},
   "outputs": [],
   "source": [
    "import pandas as pd\n",
    "import numpy as np\n",
    "from pathlib import Path\n",
    "from matplotlib import pyplot as plt\n",
    "import math\n",
    "import torch\n",
    "from torch import nn\n",
    "import torch.nn.functional as F\n",
    "from torch.utils.data import DataLoader, random_split\n",
    "import pytorch_lightning as pl\n",
    "from pytorch_lightning.callbacks import EarlyStopping, LearningRateLogger, ModelCheckpoint\n",
    "\n",
    "%matplotlib inline"
   ]
  },
  {
   "cell_type": "markdown",
   "metadata": {
    "pycharm": {
     "name": "#%% md\n"
    }
   },
   "source": [
    "import the local modules"
   ]
  },
  {
   "cell_type": "code",
   "execution_count": 515,
   "metadata": {
    "pycharm": {
     "name": "#%%\n"
    }
   },
   "outputs": [],
   "source": [
    "import os\n",
    "import sys\n",
    "module_path = os.path.abspath(os.path.join('..'))\n",
    "if module_path not in sys.path:\n",
    "    sys.path.append(module_path)\n",
    "\n",
    "from indicators import (indicators, normalize)"
   ]
  },
  {
   "cell_type": "markdown",
   "metadata": {
    "pycharm": {
     "name": "#%% md\n"
    }
   },
   "source": [
    "## load files into dataframe"
   ]
  },
  {
   "cell_type": "code",
   "execution_count": 516,
   "metadata": {
    "pycharm": {
     "name": "#%%\n"
    }
   },
   "outputs": [],
   "source": [
    "parent_dir = Path(\"../data\")\n",
    "files = [\"xtbusd_1h_2019.csv\"]\n",
    "candle_patterns = indicators.DEFAULT_CANDLE_PATTERNS"
   ]
  },
  {
   "cell_type": "markdown",
   "metadata": {},
   "source": [
    "`load_df` loads the csv files into a single dataframe"
   ]
  },
  {
   "cell_type": "code",
   "execution_count": 517,
   "metadata": {
    "pycharm": {
     "name": "#%%\n"
    }
   },
   "outputs": [],
   "source": [
    "def load_df() -> pd.DataFrame:\n",
    "    _df = None\n",
    "    for f in files:\n",
    "        print(parent_dir / f)\n",
    "        _file_df = pd.read_csv(parent_dir / f, dtype=np.float64)\n",
    "        if _df is None:\n",
    "            _df = _file_df\n",
    "            continue\n",
    "        _df = pd.concat([_df, _file_df])\n",
    "\n",
    "    return _df\n"
   ]
  },
  {
   "cell_type": "markdown",
   "metadata": {},
   "source": [
    "run `load_df` to load the csv files into `df`"
   ]
  },
  {
   "cell_type": "code",
   "execution_count": 518,
   "metadata": {
    "pycharm": {
     "name": "#%%\n"
    }
   },
   "outputs": [
    {
     "name": "stdout",
     "output_type": "stream",
     "text": [
      "../data/xtbusd_1h_2019.csv\n"
     ]
    },
    {
     "data": {
      "text/plain": "       Unnamed: 0          Time        Period    Open    High     Low   Close  \\\n0             0.0  1.546322e+27  3.600000e+12  3689.3  3694.1  3687.4  3691.9   \n1             1.0  1.546326e+27  3.600000e+12  3691.8  3719.4  3691.8  3706.2   \n2             2.0  1.546330e+27  3.600000e+12  3706.1  3725.3  3701.1  3714.4   \n3             3.0  1.546333e+27  3.600000e+12  3714.0  3714.0  3695.1  3699.7   \n4             0.0  1.546333e+27  3.600000e+12  3699.7  3699.7  3695.2  3696.9   \n...           ...           ...           ...     ...     ...     ...     ...   \n15145         0.0  1.577830e+27  3.600000e+12  7178.0  7178.0  7176.2  7176.2   \n15146         1.0  1.577833e+27  3.600000e+12  7176.2  7176.2  7163.3  7168.3   \n15147         2.0  1.577837e+27  3.600000e+12  7168.3  7170.5  7153.8  7155.7   \n15148         3.0  1.577840e+27  3.600000e+12  7155.7  7200.0  7150.0  7194.4   \n15149         4.0  1.577844e+27  3.600000e+12  7195.0  7200.0  7195.0  7198.4   \n\n       PriceAverage  TradeAverage  SellAverage   BuyAverage  TradeMedian  \\\n0       3691.438947   1328.853288  1199.975765  1535.410414   195.958810   \n1       3704.395622   1415.701715   985.041760  1636.283643   295.439626   \n2       3714.696651   2012.671204  2327.584749  1821.300665   375.295800   \n3       3706.429341   1563.477233  1410.126715  1932.770317   386.131200   \n4       3698.131183    843.513573   962.383404   671.465135   358.706000   \n...             ...           ...          ...          ...          ...   \n15145   7177.783333   2719.207747  4898.045592  1992.928465   861.360000   \n15146   7169.355844   1478.774692  2741.994702   505.950087   201.523750   \n15147   7157.538202   1896.904483  2511.989348  1491.941777   219.619947   \n15148   7180.951515   3058.986555  3334.343040  2906.730617   309.099528   \n15149   7199.076923   3746.260641   273.632644  3837.645588   719.500000   \n\n           Volume  TradeCount  \n0       68.376207       190.0  \n1      165.736900       434.0  \n2      113.205647       209.0  \n3       70.452809       167.0  \n4       21.213916        93.0  \n...           ...         ...  \n15145    4.545977        12.0  \n15146   31.768837       154.0  \n15147   70.761775       267.0  \n15148  224.921206       528.0  \n15149   20.293779        39.0  \n\n[15150 rows x 14 columns]",
      "text/html": "<div>\n<style scoped>\n    .dataframe tbody tr th:only-of-type {\n        vertical-align: middle;\n    }\n\n    .dataframe tbody tr th {\n        vertical-align: top;\n    }\n\n    .dataframe thead th {\n        text-align: right;\n    }\n</style>\n<table border=\"1\" class=\"dataframe\">\n  <thead>\n    <tr style=\"text-align: right;\">\n      <th></th>\n      <th>Unnamed: 0</th>\n      <th>Time</th>\n      <th>Period</th>\n      <th>Open</th>\n      <th>High</th>\n      <th>Low</th>\n      <th>Close</th>\n      <th>PriceAverage</th>\n      <th>TradeAverage</th>\n      <th>SellAverage</th>\n      <th>BuyAverage</th>\n      <th>TradeMedian</th>\n      <th>Volume</th>\n      <th>TradeCount</th>\n    </tr>\n  </thead>\n  <tbody>\n    <tr>\n      <th>0</th>\n      <td>0.0</td>\n      <td>1.546322e+27</td>\n      <td>3.600000e+12</td>\n      <td>3689.3</td>\n      <td>3694.1</td>\n      <td>3687.4</td>\n      <td>3691.9</td>\n      <td>3691.438947</td>\n      <td>1328.853288</td>\n      <td>1199.975765</td>\n      <td>1535.410414</td>\n      <td>195.958810</td>\n      <td>68.376207</td>\n      <td>190.0</td>\n    </tr>\n    <tr>\n      <th>1</th>\n      <td>1.0</td>\n      <td>1.546326e+27</td>\n      <td>3.600000e+12</td>\n      <td>3691.8</td>\n      <td>3719.4</td>\n      <td>3691.8</td>\n      <td>3706.2</td>\n      <td>3704.395622</td>\n      <td>1415.701715</td>\n      <td>985.041760</td>\n      <td>1636.283643</td>\n      <td>295.439626</td>\n      <td>165.736900</td>\n      <td>434.0</td>\n    </tr>\n    <tr>\n      <th>2</th>\n      <td>2.0</td>\n      <td>1.546330e+27</td>\n      <td>3.600000e+12</td>\n      <td>3706.1</td>\n      <td>3725.3</td>\n      <td>3701.1</td>\n      <td>3714.4</td>\n      <td>3714.696651</td>\n      <td>2012.671204</td>\n      <td>2327.584749</td>\n      <td>1821.300665</td>\n      <td>375.295800</td>\n      <td>113.205647</td>\n      <td>209.0</td>\n    </tr>\n    <tr>\n      <th>3</th>\n      <td>3.0</td>\n      <td>1.546333e+27</td>\n      <td>3.600000e+12</td>\n      <td>3714.0</td>\n      <td>3714.0</td>\n      <td>3695.1</td>\n      <td>3699.7</td>\n      <td>3706.429341</td>\n      <td>1563.477233</td>\n      <td>1410.126715</td>\n      <td>1932.770317</td>\n      <td>386.131200</td>\n      <td>70.452809</td>\n      <td>167.0</td>\n    </tr>\n    <tr>\n      <th>4</th>\n      <td>0.0</td>\n      <td>1.546333e+27</td>\n      <td>3.600000e+12</td>\n      <td>3699.7</td>\n      <td>3699.7</td>\n      <td>3695.2</td>\n      <td>3696.9</td>\n      <td>3698.131183</td>\n      <td>843.513573</td>\n      <td>962.383404</td>\n      <td>671.465135</td>\n      <td>358.706000</td>\n      <td>21.213916</td>\n      <td>93.0</td>\n    </tr>\n    <tr>\n      <th>...</th>\n      <td>...</td>\n      <td>...</td>\n      <td>...</td>\n      <td>...</td>\n      <td>...</td>\n      <td>...</td>\n      <td>...</td>\n      <td>...</td>\n      <td>...</td>\n      <td>...</td>\n      <td>...</td>\n      <td>...</td>\n      <td>...</td>\n      <td>...</td>\n    </tr>\n    <tr>\n      <th>15145</th>\n      <td>0.0</td>\n      <td>1.577830e+27</td>\n      <td>3.600000e+12</td>\n      <td>7178.0</td>\n      <td>7178.0</td>\n      <td>7176.2</td>\n      <td>7176.2</td>\n      <td>7177.783333</td>\n      <td>2719.207747</td>\n      <td>4898.045592</td>\n      <td>1992.928465</td>\n      <td>861.360000</td>\n      <td>4.545977</td>\n      <td>12.0</td>\n    </tr>\n    <tr>\n      <th>15146</th>\n      <td>1.0</td>\n      <td>1.577833e+27</td>\n      <td>3.600000e+12</td>\n      <td>7176.2</td>\n      <td>7176.2</td>\n      <td>7163.3</td>\n      <td>7168.3</td>\n      <td>7169.355844</td>\n      <td>1478.774692</td>\n      <td>2741.994702</td>\n      <td>505.950087</td>\n      <td>201.523750</td>\n      <td>31.768837</td>\n      <td>154.0</td>\n    </tr>\n    <tr>\n      <th>15147</th>\n      <td>2.0</td>\n      <td>1.577837e+27</td>\n      <td>3.600000e+12</td>\n      <td>7168.3</td>\n      <td>7170.5</td>\n      <td>7153.8</td>\n      <td>7155.7</td>\n      <td>7157.538202</td>\n      <td>1896.904483</td>\n      <td>2511.989348</td>\n      <td>1491.941777</td>\n      <td>219.619947</td>\n      <td>70.761775</td>\n      <td>267.0</td>\n    </tr>\n    <tr>\n      <th>15148</th>\n      <td>3.0</td>\n      <td>1.577840e+27</td>\n      <td>3.600000e+12</td>\n      <td>7155.7</td>\n      <td>7200.0</td>\n      <td>7150.0</td>\n      <td>7194.4</td>\n      <td>7180.951515</td>\n      <td>3058.986555</td>\n      <td>3334.343040</td>\n      <td>2906.730617</td>\n      <td>309.099528</td>\n      <td>224.921206</td>\n      <td>528.0</td>\n    </tr>\n    <tr>\n      <th>15149</th>\n      <td>4.0</td>\n      <td>1.577844e+27</td>\n      <td>3.600000e+12</td>\n      <td>7195.0</td>\n      <td>7200.0</td>\n      <td>7195.0</td>\n      <td>7198.4</td>\n      <td>7199.076923</td>\n      <td>3746.260641</td>\n      <td>273.632644</td>\n      <td>3837.645588</td>\n      <td>719.500000</td>\n      <td>20.293779</td>\n      <td>39.0</td>\n    </tr>\n  </tbody>\n</table>\n<p>15150 rows × 14 columns</p>\n</div>"
     },
     "execution_count": 518,
     "metadata": {},
     "output_type": "execute_result"
    }
   ],
   "source": [
    "df = load_df()\n",
    "df"
   ]
  },
  {
   "cell_type": "markdown",
   "metadata": {
    "pycharm": {
     "name": "#%% md\n"
    }
   },
   "source": [
    "## Add chart patterns to the dataframe\n",
    "`add_chart_patterns` adds all candle patterns to the chart"
   ]
  },
  {
   "cell_type": "code",
   "execution_count": 519,
   "metadata": {
    "pycharm": {
     "name": "#%%\n"
    }
   },
   "outputs": [],
   "source": [
    "def add_chart_patterns(df: pd.DataFrame) -> pd.DataFrame:\n",
    "    cndl_p = indicators.CandlePatterns(norm=True)\n",
    "    return cndl_p.concat(df, open=df[\"Open\"], high=df[\"High\"], low=df[\"Low\"], close=df[\"Close\"])"
   ]
  },
  {
   "cell_type": "markdown",
   "metadata": {
    "pycharm": {
     "name": "#%% md\n"
    }
   },
   "source": [
    "run `add_chart_patterns` to add the patterns to the current df\n"
   ]
  },
  {
   "cell_type": "code",
   "execution_count": 520,
   "metadata": {
    "pycharm": {
     "name": "#%%\n"
    }
   },
   "outputs": [
    {
     "data": {
      "text/plain": "21       1.0\n22       1.0\n26       1.0\n27       1.0\n30       1.0\n        ... \n15108    1.0\n15130    1.0\n15135    1.0\n15141    1.0\n15145    1.0\nName: CandlePatterns DOJI, Length: 2473, dtype: float64"
     },
     "execution_count": 520,
     "metadata": {},
     "output_type": "execute_result"
    }
   ],
   "source": [
    "df = add_chart_patterns(df)\n",
    "df[df[\"CandlePatterns DOJI\"] == 1][\"CandlePatterns DOJI\"]"
   ]
  },
  {
   "cell_type": "markdown",
   "metadata": {
    "pycharm": {
     "name": "#%% md\n"
    }
   },
   "source": [
    "## Add the target\n",
    "\n",
    "set up the labels, we'll look into price direction at close of the next candle"
   ]
  },
  {
   "cell_type": "code",
   "execution_count": 521,
   "metadata": {
    "pycharm": {
     "name": "#%%\n"
    }
   },
   "outputs": [
    {
     "data": {
      "text/plain": "       close_target   Close\n0            3706.2  3691.9\n1            3714.4  3706.2\n2            3699.7  3714.4\n3            3696.9  3699.7\n4            3705.8  3696.9\n...             ...     ...\n15145        7168.3  7176.2\n15146        7155.7  7168.3\n15147        7194.4  7155.7\n15148        7198.4  7194.4\n15149           NaN  7198.4\n\n[15150 rows x 2 columns]",
      "text/html": "<div>\n<style scoped>\n    .dataframe tbody tr th:only-of-type {\n        vertical-align: middle;\n    }\n\n    .dataframe tbody tr th {\n        vertical-align: top;\n    }\n\n    .dataframe thead th {\n        text-align: right;\n    }\n</style>\n<table border=\"1\" class=\"dataframe\">\n  <thead>\n    <tr style=\"text-align: right;\">\n      <th></th>\n      <th>close_target</th>\n      <th>Close</th>\n    </tr>\n  </thead>\n  <tbody>\n    <tr>\n      <th>0</th>\n      <td>3706.2</td>\n      <td>3691.9</td>\n    </tr>\n    <tr>\n      <th>1</th>\n      <td>3714.4</td>\n      <td>3706.2</td>\n    </tr>\n    <tr>\n      <th>2</th>\n      <td>3699.7</td>\n      <td>3714.4</td>\n    </tr>\n    <tr>\n      <th>3</th>\n      <td>3696.9</td>\n      <td>3699.7</td>\n    </tr>\n    <tr>\n      <th>4</th>\n      <td>3705.8</td>\n      <td>3696.9</td>\n    </tr>\n    <tr>\n      <th>...</th>\n      <td>...</td>\n      <td>...</td>\n    </tr>\n    <tr>\n      <th>15145</th>\n      <td>7168.3</td>\n      <td>7176.2</td>\n    </tr>\n    <tr>\n      <th>15146</th>\n      <td>7155.7</td>\n      <td>7168.3</td>\n    </tr>\n    <tr>\n      <th>15147</th>\n      <td>7194.4</td>\n      <td>7155.7</td>\n    </tr>\n    <tr>\n      <th>15148</th>\n      <td>7198.4</td>\n      <td>7194.4</td>\n    </tr>\n    <tr>\n      <th>15149</th>\n      <td>NaN</td>\n      <td>7198.4</td>\n    </tr>\n  </tbody>\n</table>\n<p>15150 rows × 2 columns</p>\n</div>"
     },
     "execution_count": 521,
     "metadata": {},
     "output_type": "execute_result"
    }
   ],
   "source": [
    "targets = df['Close'].shift(-1)\n",
    "df['close_target'] = targets\n",
    "df[['close_target', 'Close']]"
   ]
  },
  {
   "cell_type": "code",
   "execution_count": 522,
   "metadata": {
    "pycharm": {
     "name": "#%%\n"
    }
   },
   "outputs": [
    {
     "data": {
      "text/plain": "       Unnamed: 0          Time        Period    Open    High     Low   Close  \\\n0             0.0  1.546322e+27  3.600000e+12  3689.3  3694.1  3687.4  3691.9   \n1             1.0  1.546326e+27  3.600000e+12  3691.8  3719.4  3691.8  3706.2   \n2             2.0  1.546330e+27  3.600000e+12  3706.1  3725.3  3701.1  3714.4   \n3             3.0  1.546333e+27  3.600000e+12  3714.0  3714.0  3695.1  3699.7   \n4             0.0  1.546333e+27  3.600000e+12  3699.7  3699.7  3695.2  3696.9   \n...           ...           ...           ...     ...     ...     ...     ...   \n15145         0.0  1.577830e+27  3.600000e+12  7178.0  7178.0  7176.2  7176.2   \n15146         1.0  1.577833e+27  3.600000e+12  7176.2  7176.2  7163.3  7168.3   \n15147         2.0  1.577837e+27  3.600000e+12  7168.3  7170.5  7153.8  7155.7   \n15148         3.0  1.577840e+27  3.600000e+12  7155.7  7200.0  7150.0  7194.4   \n15149         4.0  1.577844e+27  3.600000e+12  7195.0  7200.0  7195.0  7198.4   \n\n       PriceAverage  TradeAverage  SellAverage  ...  \\\n0       3691.438947   1328.853288  1199.975765  ...   \n1       3704.395622   1415.701715   985.041760  ...   \n2       3714.696651   2012.671204  2327.584749  ...   \n3       3706.429341   1563.477233  1410.126715  ...   \n4       3698.131183    843.513573   962.383404  ...   \n...             ...           ...          ...  ...   \n15145   7177.783333   2719.207747  4898.045592  ...   \n15146   7169.355844   1478.774692  2741.994702  ...   \n15147   7157.538202   1896.904483  2511.989348  ...   \n15148   7180.951515   3058.986555  3334.343040  ...   \n15149   7199.076923   3746.260641   273.632644  ...   \n\n       CandlePatterns STICKSANDWICH  CandlePatterns TAKURI  \\\n0                               0.5                    0.5   \n1                               0.5                    0.5   \n2                               0.5                    0.5   \n3                               0.5                    0.5   \n4                               0.5                    0.5   \n...                             ...                    ...   \n15145                           0.5                    0.5   \n15146                           0.5                    0.5   \n15147                           0.5                    0.5   \n15148                           0.5                    0.5   \n15149                           0.5                    0.5   \n\n       CandlePatterns TASUKIGAP  CandlePatterns THRUSTING  \\\n0                           0.5                       0.5   \n1                           0.5                       0.5   \n2                           0.5                       0.5   \n3                           0.5                       0.5   \n4                           0.5                       0.5   \n...                         ...                       ...   \n15145                       0.5                       0.5   \n15146                       0.5                       0.5   \n15147                       0.5                       0.5   \n15148                       0.5                       0.5   \n15149                       0.5                       0.5   \n\n       CandlePatterns TRISTAR  CandlePatterns UNIQUE3RIVER  \\\n0                         0.5                          0.5   \n1                         0.5                          0.5   \n2                         0.5                          0.5   \n3                         0.5                          0.5   \n4                         0.5                          0.5   \n...                       ...                          ...   \n15145                     0.5                          0.5   \n15146                     0.5                          0.5   \n15147                     0.5                          0.5   \n15148                     0.5                          0.5   \n15149                     0.5                          0.5   \n\n       CandlePatterns UPSIDEGAP2CROWS  CandlePatterns XSIDEGAP3METHODS  \\\n0                                 0.5                              0.5   \n1                                 0.5                              0.5   \n2                                 0.5                              0.5   \n3                                 0.5                              0.5   \n4                                 0.5                              0.5   \n...                               ...                              ...   \n15145                             0.5                              0.5   \n15146                             0.5                              0.5   \n15147                             0.5                              0.5   \n15148                             0.5                              0.5   \n15149                             0.5                              0.5   \n\n       close_target  target  \n0            3706.2       1  \n1            3714.4       1  \n2            3699.7       0  \n3            3696.9       0  \n4            3705.8       1  \n...             ...     ...  \n15145        7168.3       0  \n15146        7155.7       0  \n15147        7194.4       1  \n15148        7198.4       1  \n15149           NaN       0  \n\n[15150 rows x 77 columns]",
      "text/html": "<div>\n<style scoped>\n    .dataframe tbody tr th:only-of-type {\n        vertical-align: middle;\n    }\n\n    .dataframe tbody tr th {\n        vertical-align: top;\n    }\n\n    .dataframe thead th {\n        text-align: right;\n    }\n</style>\n<table border=\"1\" class=\"dataframe\">\n  <thead>\n    <tr style=\"text-align: right;\">\n      <th></th>\n      <th>Unnamed: 0</th>\n      <th>Time</th>\n      <th>Period</th>\n      <th>Open</th>\n      <th>High</th>\n      <th>Low</th>\n      <th>Close</th>\n      <th>PriceAverage</th>\n      <th>TradeAverage</th>\n      <th>SellAverage</th>\n      <th>...</th>\n      <th>CandlePatterns STICKSANDWICH</th>\n      <th>CandlePatterns TAKURI</th>\n      <th>CandlePatterns TASUKIGAP</th>\n      <th>CandlePatterns THRUSTING</th>\n      <th>CandlePatterns TRISTAR</th>\n      <th>CandlePatterns UNIQUE3RIVER</th>\n      <th>CandlePatterns UPSIDEGAP2CROWS</th>\n      <th>CandlePatterns XSIDEGAP3METHODS</th>\n      <th>close_target</th>\n      <th>target</th>\n    </tr>\n  </thead>\n  <tbody>\n    <tr>\n      <th>0</th>\n      <td>0.0</td>\n      <td>1.546322e+27</td>\n      <td>3.600000e+12</td>\n      <td>3689.3</td>\n      <td>3694.1</td>\n      <td>3687.4</td>\n      <td>3691.9</td>\n      <td>3691.438947</td>\n      <td>1328.853288</td>\n      <td>1199.975765</td>\n      <td>...</td>\n      <td>0.5</td>\n      <td>0.5</td>\n      <td>0.5</td>\n      <td>0.5</td>\n      <td>0.5</td>\n      <td>0.5</td>\n      <td>0.5</td>\n      <td>0.5</td>\n      <td>3706.2</td>\n      <td>1</td>\n    </tr>\n    <tr>\n      <th>1</th>\n      <td>1.0</td>\n      <td>1.546326e+27</td>\n      <td>3.600000e+12</td>\n      <td>3691.8</td>\n      <td>3719.4</td>\n      <td>3691.8</td>\n      <td>3706.2</td>\n      <td>3704.395622</td>\n      <td>1415.701715</td>\n      <td>985.041760</td>\n      <td>...</td>\n      <td>0.5</td>\n      <td>0.5</td>\n      <td>0.5</td>\n      <td>0.5</td>\n      <td>0.5</td>\n      <td>0.5</td>\n      <td>0.5</td>\n      <td>0.5</td>\n      <td>3714.4</td>\n      <td>1</td>\n    </tr>\n    <tr>\n      <th>2</th>\n      <td>2.0</td>\n      <td>1.546330e+27</td>\n      <td>3.600000e+12</td>\n      <td>3706.1</td>\n      <td>3725.3</td>\n      <td>3701.1</td>\n      <td>3714.4</td>\n      <td>3714.696651</td>\n      <td>2012.671204</td>\n      <td>2327.584749</td>\n      <td>...</td>\n      <td>0.5</td>\n      <td>0.5</td>\n      <td>0.5</td>\n      <td>0.5</td>\n      <td>0.5</td>\n      <td>0.5</td>\n      <td>0.5</td>\n      <td>0.5</td>\n      <td>3699.7</td>\n      <td>0</td>\n    </tr>\n    <tr>\n      <th>3</th>\n      <td>3.0</td>\n      <td>1.546333e+27</td>\n      <td>3.600000e+12</td>\n      <td>3714.0</td>\n      <td>3714.0</td>\n      <td>3695.1</td>\n      <td>3699.7</td>\n      <td>3706.429341</td>\n      <td>1563.477233</td>\n      <td>1410.126715</td>\n      <td>...</td>\n      <td>0.5</td>\n      <td>0.5</td>\n      <td>0.5</td>\n      <td>0.5</td>\n      <td>0.5</td>\n      <td>0.5</td>\n      <td>0.5</td>\n      <td>0.5</td>\n      <td>3696.9</td>\n      <td>0</td>\n    </tr>\n    <tr>\n      <th>4</th>\n      <td>0.0</td>\n      <td>1.546333e+27</td>\n      <td>3.600000e+12</td>\n      <td>3699.7</td>\n      <td>3699.7</td>\n      <td>3695.2</td>\n      <td>3696.9</td>\n      <td>3698.131183</td>\n      <td>843.513573</td>\n      <td>962.383404</td>\n      <td>...</td>\n      <td>0.5</td>\n      <td>0.5</td>\n      <td>0.5</td>\n      <td>0.5</td>\n      <td>0.5</td>\n      <td>0.5</td>\n      <td>0.5</td>\n      <td>0.5</td>\n      <td>3705.8</td>\n      <td>1</td>\n    </tr>\n    <tr>\n      <th>...</th>\n      <td>...</td>\n      <td>...</td>\n      <td>...</td>\n      <td>...</td>\n      <td>...</td>\n      <td>...</td>\n      <td>...</td>\n      <td>...</td>\n      <td>...</td>\n      <td>...</td>\n      <td>...</td>\n      <td>...</td>\n      <td>...</td>\n      <td>...</td>\n      <td>...</td>\n      <td>...</td>\n      <td>...</td>\n      <td>...</td>\n      <td>...</td>\n      <td>...</td>\n      <td>...</td>\n    </tr>\n    <tr>\n      <th>15145</th>\n      <td>0.0</td>\n      <td>1.577830e+27</td>\n      <td>3.600000e+12</td>\n      <td>7178.0</td>\n      <td>7178.0</td>\n      <td>7176.2</td>\n      <td>7176.2</td>\n      <td>7177.783333</td>\n      <td>2719.207747</td>\n      <td>4898.045592</td>\n      <td>...</td>\n      <td>0.5</td>\n      <td>0.5</td>\n      <td>0.5</td>\n      <td>0.5</td>\n      <td>0.5</td>\n      <td>0.5</td>\n      <td>0.5</td>\n      <td>0.5</td>\n      <td>7168.3</td>\n      <td>0</td>\n    </tr>\n    <tr>\n      <th>15146</th>\n      <td>1.0</td>\n      <td>1.577833e+27</td>\n      <td>3.600000e+12</td>\n      <td>7176.2</td>\n      <td>7176.2</td>\n      <td>7163.3</td>\n      <td>7168.3</td>\n      <td>7169.355844</td>\n      <td>1478.774692</td>\n      <td>2741.994702</td>\n      <td>...</td>\n      <td>0.5</td>\n      <td>0.5</td>\n      <td>0.5</td>\n      <td>0.5</td>\n      <td>0.5</td>\n      <td>0.5</td>\n      <td>0.5</td>\n      <td>0.5</td>\n      <td>7155.7</td>\n      <td>0</td>\n    </tr>\n    <tr>\n      <th>15147</th>\n      <td>2.0</td>\n      <td>1.577837e+27</td>\n      <td>3.600000e+12</td>\n      <td>7168.3</td>\n      <td>7170.5</td>\n      <td>7153.8</td>\n      <td>7155.7</td>\n      <td>7157.538202</td>\n      <td>1896.904483</td>\n      <td>2511.989348</td>\n      <td>...</td>\n      <td>0.5</td>\n      <td>0.5</td>\n      <td>0.5</td>\n      <td>0.5</td>\n      <td>0.5</td>\n      <td>0.5</td>\n      <td>0.5</td>\n      <td>0.5</td>\n      <td>7194.4</td>\n      <td>1</td>\n    </tr>\n    <tr>\n      <th>15148</th>\n      <td>3.0</td>\n      <td>1.577840e+27</td>\n      <td>3.600000e+12</td>\n      <td>7155.7</td>\n      <td>7200.0</td>\n      <td>7150.0</td>\n      <td>7194.4</td>\n      <td>7180.951515</td>\n      <td>3058.986555</td>\n      <td>3334.343040</td>\n      <td>...</td>\n      <td>0.5</td>\n      <td>0.5</td>\n      <td>0.5</td>\n      <td>0.5</td>\n      <td>0.5</td>\n      <td>0.5</td>\n      <td>0.5</td>\n      <td>0.5</td>\n      <td>7198.4</td>\n      <td>1</td>\n    </tr>\n    <tr>\n      <th>15149</th>\n      <td>4.0</td>\n      <td>1.577844e+27</td>\n      <td>3.600000e+12</td>\n      <td>7195.0</td>\n      <td>7200.0</td>\n      <td>7195.0</td>\n      <td>7198.4</td>\n      <td>7199.076923</td>\n      <td>3746.260641</td>\n      <td>273.632644</td>\n      <td>...</td>\n      <td>0.5</td>\n      <td>0.5</td>\n      <td>0.5</td>\n      <td>0.5</td>\n      <td>0.5</td>\n      <td>0.5</td>\n      <td>0.5</td>\n      <td>0.5</td>\n      <td>NaN</td>\n      <td>0</td>\n    </tr>\n  </tbody>\n</table>\n<p>15150 rows × 77 columns</p>\n</div>"
     },
     "execution_count": 522,
     "metadata": {},
     "output_type": "execute_result"
    }
   ],
   "source": [
    "df[\"target\"] = np.where(df['close_target'] > df['Close'], 1, 0)\n",
    "df"
   ]
  },
  {
   "cell_type": "markdown",
   "metadata": {},
   "source": [
    "## Add Indicators"
   ]
  },
  {
   "cell_type": "code",
   "execution_count": 523,
   "metadata": {},
   "outputs": [
    {
     "data": {
      "text/plain": "       Unnamed: 0          Time        Period    Open    High     Low   Close  \\\n49            1.0  1.546445e+27  3.600000e+12  3820.0  3889.9  3816.0  3883.9   \n50            0.0  1.546445e+27  3.600000e+12  3883.9  3890.0  3851.9  3857.5   \n51            1.0  1.546448e+27  3.600000e+12  3857.5  3865.2  3835.0  3850.8   \n52            0.0  1.546448e+27  3.600000e+12  3850.8  3852.0  3846.7  3849.9   \n53            1.0  1.546452e+27  3.600000e+12  3849.9  3851.5  3832.9  3845.6   \n...           ...           ...           ...     ...     ...     ...     ...   \n15144         3.0  1.577830e+27  3.600000e+12  7157.8  7178.0  7155.6  7177.9   \n15145         0.0  1.577830e+27  3.600000e+12  7178.0  7178.0  7176.2  7176.2   \n15146         1.0  1.577833e+27  3.600000e+12  7176.2  7176.2  7163.3  7168.3   \n15147         2.0  1.577837e+27  3.600000e+12  7168.3  7170.5  7153.8  7155.7   \n15148         3.0  1.577840e+27  3.600000e+12  7155.7  7200.0  7150.0  7194.4   \n\n       PriceAverage  TradeAverage  SellAverage  ...  EMA Sell Avg p=50  \\\n49      3850.552047   2166.075787  1326.544134  ...        1788.548474   \n50      3869.426362   1190.805556   745.120903  ...        1747.629746   \n51      3849.711091   2413.965841  2458.647045  ...        1775.512777   \n52      3849.451667   2129.670273  2241.838688  ...        1793.800068   \n53      3844.052041   1471.380725  1158.860385  ...        1768.900472   \n...             ...           ...          ...  ...                ...   \n15144   7167.840067   3161.733534  2171.929141  ...        2254.598581   \n15145   7177.783333   2719.207747  4898.045592  ...        2358.263170   \n15146   7169.355844   1478.774692  2741.994702  ...        2373.311465   \n15147   7157.538202   1896.904483  2511.989348  ...        2378.749813   \n15148   7180.951515   3058.986555  3334.343040  ...        2416.224058   \n\n       BBANDS UPPER p=16, d=2.0  BBANDS MID p=16, d=2.0  \\\n49                  3867.749540              3817.24375   \n50                  3874.035050              3820.83750   \n51                  3875.850734              3825.26250   \n52                  3877.938362              3828.75000   \n53                  3879.262284              3831.46250   \n...                         ...                     ...   \n15144               7243.180636              7179.40625   \n15145               7233.953778              7175.98750   \n15146               7222.456191              7172.03750   \n15147               7211.061086              7167.79375   \n15148               7206.650131              7166.78750   \n\n       BBANDS LOWER p=16, d=2.0  BBANDS UPPER p=16, d=3.0  \\\n49                  3766.737960               3893.002435   \n50                  3767.639950               3900.633826   \n51                  3774.674266               3901.144850   \n52                  3779.561638               3902.532544   \n53                  3783.662716               3903.162176   \n...                         ...                       ...   \n15144               7115.631864               7275.067829   \n15145               7118.021222               7262.936917   \n15146               7121.618809               7247.665536   \n15147               7124.526414               7232.694754   \n15148               7126.924869               7226.581447   \n\n       BBANDS MID p=16, d=3.0  BBANDS LOWER p=16, d=3.0   ATR p=14  \\\n49                 3817.24375               3741.485065  42.469506   \n50                 3820.83750               3741.041174  42.157398   \n51                 3825.26250               3749.380150  41.303299   \n52                 3828.75000               3754.967456  38.731634   \n53                 3831.46250               3759.762824  37.293661   \n...                       ...                       ...        ...   \n15144              7179.40625               7083.744671  25.982908   \n15145              7175.98750               7089.038083  24.255557   \n15146              7172.03750               7096.409464  23.444446   \n15147              7167.79375               7102.892746  22.962700   \n15148              7166.78750               7106.993553  24.893935   \n\n       KelBbandDif Upper p=20, bd=2.0, km=2  \\\n49                               -49.558047   \n50                               -46.327121   \n51                               -43.434968   \n52                               -38.558282   \n53                               -35.456898   \n...                                     ...   \n15144                             16.421661   \n15145                             17.433673   \n15146                             16.937237   \n15147                             15.547888   \n15148                              6.525814   \n\n       KelBbandDif Lower p=20, bd=2.0, km=2  \n49                               -36.776586  \n50                               -31.930084  \n51                               -29.083363  \n52                               -25.012545  \n53                               -22.902184  \n...                                     ...  \n15144                              7.387889  \n15145                             10.273594  \n15146                             11.585260  \n15147                             11.916100  \n15148                              9.183244  \n\n[15100 rows x 100 columns]",
      "text/html": "<div>\n<style scoped>\n    .dataframe tbody tr th:only-of-type {\n        vertical-align: middle;\n    }\n\n    .dataframe tbody tr th {\n        vertical-align: top;\n    }\n\n    .dataframe thead th {\n        text-align: right;\n    }\n</style>\n<table border=\"1\" class=\"dataframe\">\n  <thead>\n    <tr style=\"text-align: right;\">\n      <th></th>\n      <th>Unnamed: 0</th>\n      <th>Time</th>\n      <th>Period</th>\n      <th>Open</th>\n      <th>High</th>\n      <th>Low</th>\n      <th>Close</th>\n      <th>PriceAverage</th>\n      <th>TradeAverage</th>\n      <th>SellAverage</th>\n      <th>...</th>\n      <th>EMA Sell Avg p=50</th>\n      <th>BBANDS UPPER p=16, d=2.0</th>\n      <th>BBANDS MID p=16, d=2.0</th>\n      <th>BBANDS LOWER p=16, d=2.0</th>\n      <th>BBANDS UPPER p=16, d=3.0</th>\n      <th>BBANDS MID p=16, d=3.0</th>\n      <th>BBANDS LOWER p=16, d=3.0</th>\n      <th>ATR p=14</th>\n      <th>KelBbandDif Upper p=20, bd=2.0, km=2</th>\n      <th>KelBbandDif Lower p=20, bd=2.0, km=2</th>\n    </tr>\n  </thead>\n  <tbody>\n    <tr>\n      <th>49</th>\n      <td>1.0</td>\n      <td>1.546445e+27</td>\n      <td>3.600000e+12</td>\n      <td>3820.0</td>\n      <td>3889.9</td>\n      <td>3816.0</td>\n      <td>3883.9</td>\n      <td>3850.552047</td>\n      <td>2166.075787</td>\n      <td>1326.544134</td>\n      <td>...</td>\n      <td>1788.548474</td>\n      <td>3867.749540</td>\n      <td>3817.24375</td>\n      <td>3766.737960</td>\n      <td>3893.002435</td>\n      <td>3817.24375</td>\n      <td>3741.485065</td>\n      <td>42.469506</td>\n      <td>-49.558047</td>\n      <td>-36.776586</td>\n    </tr>\n    <tr>\n      <th>50</th>\n      <td>0.0</td>\n      <td>1.546445e+27</td>\n      <td>3.600000e+12</td>\n      <td>3883.9</td>\n      <td>3890.0</td>\n      <td>3851.9</td>\n      <td>3857.5</td>\n      <td>3869.426362</td>\n      <td>1190.805556</td>\n      <td>745.120903</td>\n      <td>...</td>\n      <td>1747.629746</td>\n      <td>3874.035050</td>\n      <td>3820.83750</td>\n      <td>3767.639950</td>\n      <td>3900.633826</td>\n      <td>3820.83750</td>\n      <td>3741.041174</td>\n      <td>42.157398</td>\n      <td>-46.327121</td>\n      <td>-31.930084</td>\n    </tr>\n    <tr>\n      <th>51</th>\n      <td>1.0</td>\n      <td>1.546448e+27</td>\n      <td>3.600000e+12</td>\n      <td>3857.5</td>\n      <td>3865.2</td>\n      <td>3835.0</td>\n      <td>3850.8</td>\n      <td>3849.711091</td>\n      <td>2413.965841</td>\n      <td>2458.647045</td>\n      <td>...</td>\n      <td>1775.512777</td>\n      <td>3875.850734</td>\n      <td>3825.26250</td>\n      <td>3774.674266</td>\n      <td>3901.144850</td>\n      <td>3825.26250</td>\n      <td>3749.380150</td>\n      <td>41.303299</td>\n      <td>-43.434968</td>\n      <td>-29.083363</td>\n    </tr>\n    <tr>\n      <th>52</th>\n      <td>0.0</td>\n      <td>1.546448e+27</td>\n      <td>3.600000e+12</td>\n      <td>3850.8</td>\n      <td>3852.0</td>\n      <td>3846.7</td>\n      <td>3849.9</td>\n      <td>3849.451667</td>\n      <td>2129.670273</td>\n      <td>2241.838688</td>\n      <td>...</td>\n      <td>1793.800068</td>\n      <td>3877.938362</td>\n      <td>3828.75000</td>\n      <td>3779.561638</td>\n      <td>3902.532544</td>\n      <td>3828.75000</td>\n      <td>3754.967456</td>\n      <td>38.731634</td>\n      <td>-38.558282</td>\n      <td>-25.012545</td>\n    </tr>\n    <tr>\n      <th>53</th>\n      <td>1.0</td>\n      <td>1.546452e+27</td>\n      <td>3.600000e+12</td>\n      <td>3849.9</td>\n      <td>3851.5</td>\n      <td>3832.9</td>\n      <td>3845.6</td>\n      <td>3844.052041</td>\n      <td>1471.380725</td>\n      <td>1158.860385</td>\n      <td>...</td>\n      <td>1768.900472</td>\n      <td>3879.262284</td>\n      <td>3831.46250</td>\n      <td>3783.662716</td>\n      <td>3903.162176</td>\n      <td>3831.46250</td>\n      <td>3759.762824</td>\n      <td>37.293661</td>\n      <td>-35.456898</td>\n      <td>-22.902184</td>\n    </tr>\n    <tr>\n      <th>...</th>\n      <td>...</td>\n      <td>...</td>\n      <td>...</td>\n      <td>...</td>\n      <td>...</td>\n      <td>...</td>\n      <td>...</td>\n      <td>...</td>\n      <td>...</td>\n      <td>...</td>\n      <td>...</td>\n      <td>...</td>\n      <td>...</td>\n      <td>...</td>\n      <td>...</td>\n      <td>...</td>\n      <td>...</td>\n      <td>...</td>\n      <td>...</td>\n      <td>...</td>\n      <td>...</td>\n    </tr>\n    <tr>\n      <th>15144</th>\n      <td>3.0</td>\n      <td>1.577830e+27</td>\n      <td>3.600000e+12</td>\n      <td>7157.8</td>\n      <td>7178.0</td>\n      <td>7155.6</td>\n      <td>7177.9</td>\n      <td>7167.840067</td>\n      <td>3161.733534</td>\n      <td>2171.929141</td>\n      <td>...</td>\n      <td>2254.598581</td>\n      <td>7243.180636</td>\n      <td>7179.40625</td>\n      <td>7115.631864</td>\n      <td>7275.067829</td>\n      <td>7179.40625</td>\n      <td>7083.744671</td>\n      <td>25.982908</td>\n      <td>16.421661</td>\n      <td>7.387889</td>\n    </tr>\n    <tr>\n      <th>15145</th>\n      <td>0.0</td>\n      <td>1.577830e+27</td>\n      <td>3.600000e+12</td>\n      <td>7178.0</td>\n      <td>7178.0</td>\n      <td>7176.2</td>\n      <td>7176.2</td>\n      <td>7177.783333</td>\n      <td>2719.207747</td>\n      <td>4898.045592</td>\n      <td>...</td>\n      <td>2358.263170</td>\n      <td>7233.953778</td>\n      <td>7175.98750</td>\n      <td>7118.021222</td>\n      <td>7262.936917</td>\n      <td>7175.98750</td>\n      <td>7089.038083</td>\n      <td>24.255557</td>\n      <td>17.433673</td>\n      <td>10.273594</td>\n    </tr>\n    <tr>\n      <th>15146</th>\n      <td>1.0</td>\n      <td>1.577833e+27</td>\n      <td>3.600000e+12</td>\n      <td>7176.2</td>\n      <td>7176.2</td>\n      <td>7163.3</td>\n      <td>7168.3</td>\n      <td>7169.355844</td>\n      <td>1478.774692</td>\n      <td>2741.994702</td>\n      <td>...</td>\n      <td>2373.311465</td>\n      <td>7222.456191</td>\n      <td>7172.03750</td>\n      <td>7121.618809</td>\n      <td>7247.665536</td>\n      <td>7172.03750</td>\n      <td>7096.409464</td>\n      <td>23.444446</td>\n      <td>16.937237</td>\n      <td>11.585260</td>\n    </tr>\n    <tr>\n      <th>15147</th>\n      <td>2.0</td>\n      <td>1.577837e+27</td>\n      <td>3.600000e+12</td>\n      <td>7168.3</td>\n      <td>7170.5</td>\n      <td>7153.8</td>\n      <td>7155.7</td>\n      <td>7157.538202</td>\n      <td>1896.904483</td>\n      <td>2511.989348</td>\n      <td>...</td>\n      <td>2378.749813</td>\n      <td>7211.061086</td>\n      <td>7167.79375</td>\n      <td>7124.526414</td>\n      <td>7232.694754</td>\n      <td>7167.79375</td>\n      <td>7102.892746</td>\n      <td>22.962700</td>\n      <td>15.547888</td>\n      <td>11.916100</td>\n    </tr>\n    <tr>\n      <th>15148</th>\n      <td>3.0</td>\n      <td>1.577840e+27</td>\n      <td>3.600000e+12</td>\n      <td>7155.7</td>\n      <td>7200.0</td>\n      <td>7150.0</td>\n      <td>7194.4</td>\n      <td>7180.951515</td>\n      <td>3058.986555</td>\n      <td>3334.343040</td>\n      <td>...</td>\n      <td>2416.224058</td>\n      <td>7206.650131</td>\n      <td>7166.78750</td>\n      <td>7126.924869</td>\n      <td>7226.581447</td>\n      <td>7166.78750</td>\n      <td>7106.993553</td>\n      <td>24.893935</td>\n      <td>6.525814</td>\n      <td>9.183244</td>\n    </tr>\n  </tbody>\n</table>\n<p>15100 rows × 100 columns</p>\n</div>"
     },
     "execution_count": 523,
     "metadata": {},
     "output_type": "execute_result"
    }
   ],
   "source": [
    "sma_set = [\n",
    "    indicators.SMA(12),\n",
    "    indicators.SMA(24),\n",
    "    indicators.SMA(50),\n",
    "]\n",
    "\n",
    "ema_set = [\n",
    "    indicators.EMA(12),\n",
    "    indicators.EMA(24),\n",
    "    indicators.EMA(50),\n",
    "]\n",
    "\n",
    "df = indicators.ADOSC(3, 10, \"ADSOC\").concat(df, df[\"High\"], df[\"Low\"], df[\"Close\"], df[\"Volume\"])\n",
    "df = indicators.OBV(\"OBV\").concat(df, df[\"Close\"], df[\"Volume\"])\n",
    "df = indicators.Set(ema_set, \"EMA\").concat(df, df[\"Close\"])\n",
    "df = indicators.Set(sma_set, \"SMA\").concat(df, df[\"Close\"])\n",
    "df = indicators.Set(ema_set, \"EMA Buy Avg\").concat(df, df[\"BuyAverage\"])\n",
    "df = indicators.Set(ema_set, \"EMA Sell Avg\").concat(df, df[\"SellAverage\"])\n",
    "df = indicators.Set([\n",
    "    indicators.BBANDS(16, 2),\n",
    "    indicators.BBANDS(16, 3),\n",
    "], \"BBANDS\").concat(df, df[\"Close\"])\n",
    "df = indicators.Set([\n",
    "    indicators.ATR(14),\n",
    "    indicators.KelBbandDif(),\n",
    "]).concat(df, df[\"High\"], df[\"Low\"], df[\"Close\"])\n",
    "df.dropna(inplace=True)\n",
    "df"
   ]
  },
  {
   "cell_type": "markdown",
   "metadata": {},
   "source": [
    " ## Create the dataset"
   ]
  },
  {
   "cell_type": "code",
   "execution_count": 524,
   "metadata": {},
   "outputs": [],
   "source": [
    "from torch.utils.data import Dataset, random_split, DataLoader"
   ]
  },
  {
   "cell_type": "code",
   "execution_count": 525,
   "metadata": {
    "pycharm": {
     "name": "#%%\n"
    }
   },
   "outputs": [],
   "source": [
    "def split_df_by_col(col_starts_with: [], source_df: pd.DataFrame):\n",
    "    cols = []\n",
    "    for c in source_df.columns:\n",
    "        for c_start in col_starts_with:\n",
    "            if c.startswith(c_start):\n",
    "                if c_start not in cols:\n",
    "                    cols.append(c)\n",
    "\n",
    "    if len(cols) < 0:\n",
    "        return None\n",
    "\n",
    "    return source_df[cols]"
   ]
  },
  {
   "cell_type": "code",
   "execution_count": 526,
   "metadata": {
    "pycharm": {
     "name": "#%%\n"
    }
   },
   "outputs": [],
   "source": [
    "class CryptoChartDataset(Dataset):\n",
    "    def __init__(self, dataframe: pd.DataFrame, window: int, target_col=\"target\"):\n",
    "        self._df: pd.DataFrame = dataframe\n",
    "        self._window = window\n",
    "        self._target_col = target_col\n",
    "        self._len = len(dataframe) - window\n",
    "        self._loaded = {}\n",
    "    \n",
    "    def __len__(self):\n",
    "        return self._len\n",
    "    \n",
    "    def load_idx(self, idx):\n",
    "        # df window\n",
    "        dfw: pd.DataFrame = self._df.iloc[idx:idx+self._window]\n",
    "        # get the target\n",
    "        y_hat = dfw[self._target_col].tail(1)\n",
    "        \n",
    "        # process the window\n",
    "        result_df: pd.Dataframe = split_df_by_col([\"CandlePatterns\"], dfw)\n",
    "\n",
    "        for group in [\n",
    "            [\"KelBbandDif\"],\n",
    "            [\"ATR\"],\n",
    "            [\"EMA\", \"SMA\", \"BBANDS\"], #ema and sma patterns\n",
    "        ]:\n",
    "            result_df = pd.concat((result_df, normalize.min_max_dataframe(split_df_by_col(group, dfw))),\n",
    "                                  axis=1, join=\"outer\")\n",
    "            \n",
    "        self._loaded[idx] = (torch.tensor(result_df.to_numpy(), dtype=torch.float32),\n",
    "                             torch.tensor(y_hat.to_numpy(), dtype=torch.float32))\n",
    "    \n",
    "    def __getitem__(self, idx):\n",
    "        if idx not in self._loaded.keys():\n",
    "            self.load_idx(idx)\n",
    "        return self._loaded[idx]\n",
    "        "
   ]
  },
  {
   "cell_type": "code",
   "execution_count": 527,
   "metadata": {
    "pycharm": {
     "name": "#%%\n"
    }
   },
   "outputs": [],
   "source": [
    "dataset = CryptoChartDataset(df, 100, \"target\")"
   ]
  },
  {
   "cell_type": "code",
   "execution_count": 528,
   "metadata": {
    "pycharm": {
     "name": "#%%\n"
    }
   },
   "outputs": [
    {
     "data": {
      "text/plain": "(tensor([[0.5000, 0.5000, 0.5000,  ..., 0.9728, 0.9649, 0.9571],\n         [0.5000, 0.5000, 0.5000,  ..., 0.9727, 0.9650, 0.9573],\n         [0.5000, 0.5000, 0.5000,  ..., 0.9723, 0.9651, 0.9580],\n         ...,\n         [0.5000, 0.5000, 0.5000,  ..., 0.9570, 0.9429, 0.9288],\n         [0.5000, 0.5000, 0.5000,  ..., 0.9545, 0.9423, 0.9300],\n         [0.5000, 0.5000, 0.5000,  ..., 0.9521, 0.9416, 0.9310]]),\n torch.Size([100, 82]),\n torch.Size([1]))"
     },
     "execution_count": 528,
     "metadata": {},
     "output_type": "execute_result"
    }
   ],
   "source": [
    "example = dataset.__getitem__(len(dataset)-1)\n",
    "example[0], example[0].shape, example[1].shape"
   ]
  },
  {
   "cell_type": "code",
   "execution_count": 528,
   "outputs": [],
   "source": [],
   "metadata": {
    "collapsed": false,
    "pycharm": {
     "name": "#%%\n"
    }
   }
  },
  {
   "cell_type": "markdown",
   "metadata": {
    "pycharm": {
     "name": "#%% md\n"
    }
   },
   "source": [
    "### Split the dataset"
   ]
  },
  {
   "cell_type": "code",
   "execution_count": 529,
   "metadata": {
    "pycharm": {
     "name": "#%%\n"
    }
   },
   "outputs": [
    {
     "data": {
      "text/plain": "(10500, 4500)"
     },
     "execution_count": 529,
     "metadata": {},
     "output_type": "execute_result"
    }
   ],
   "source": [
    "val30 = math.floor(len(dataset) * .30)\n",
    "train_set, val_set = random_split(dataset, [len(dataset) - val30, val30])\n",
    "len(train_set), len(val_set)\n"
   ]
  },
  {
   "cell_type": "markdown",
   "source": [
    "### configure cuda"
   ],
   "metadata": {
    "collapsed": false,
    "pycharm": {
     "name": "#%% md\n"
    }
   }
  },
  {
   "cell_type": "code",
   "execution_count": 530,
   "outputs": [],
   "source": [
    "# CUDA for PyTorch\n",
    "use_cuda = torch.cuda.is_available()\n",
    "device = torch.device(\"cuda:0\" if use_cuda else \"cpu\")"
   ],
   "metadata": {
    "collapsed": false,
    "pycharm": {
     "name": "#%%\n"
    }
   }
  },
  {
   "cell_type": "markdown",
   "source": [
    "### the GRUNet lightning model"
   ],
   "metadata": {
    "collapsed": false,
    "pycharm": {
     "name": "#%% md\n"
    }
   }
  },
  {
   "cell_type": "code",
   "execution_count": 531,
   "outputs": [],
   "source": [
    "class GRUNet(pl.LightningModule):\n",
    "    batch_size = 10\n",
    "    learning_rate = 1e-3\n",
    "\n",
    "    def __init__(self, train_dataset: Dataset, val_dataset: Dataset, hidden_dim, n_layers, drop_prob=0.2):\n",
    "        super(GRUNet, self).__init__()\n",
    "\n",
    "        self.train_loader = DataLoader(train_dataset, shuffle=True, batch_size=self.batch_size)\n",
    "        self.val_loader = DataLoader(val_dataset, shuffle=False, batch_size=self.batch_size)\n",
    "\n",
    "        # input dim pulled dynamically from the training dataset\n",
    "        _input_dim = train_dataset.__getitem__(0)[0].shape[1]\n",
    "\n",
    "        self.hidden_dim = hidden_dim\n",
    "        self.n_layers = n_layers\n",
    "\n",
    "        self.gru = nn.GRU(_input_dim, hidden_dim, n_layers, batch_first=True, dropout=drop_prob)\n",
    "        self.fc = nn.Linear(hidden_dim, 1)\n",
    "        self.relu = nn.ReLU()\n",
    "\n",
    "    def val_dataloader(self) -> DataLoader:\n",
    "        return self.val_loader\n",
    "\n",
    "    def train_dataloader(self) -> DataLoader:\n",
    "        return self.train_loader\n",
    "\n",
    "    def forward(self, x):\n",
    "        out, _ = self.gru(x)\n",
    "        out = self.fc(self.relu(out[:, -1]))\n",
    "        return out\n",
    "\n",
    "    def configure_optimizers(self):\n",
    "        optimizer = torch.optim.Adam(self.parameters(), lr=self.learning_rate)\n",
    "        lr_scheduler = {'scheduler': torch.optim.lr_scheduler.ExponentialLR(optimizer, gamma = 0.95),\n",
    "                        'name': 'expo_lr'}\n",
    "        return [optimizer], [lr_scheduler]\n",
    "\n",
    "    def _step(self, batch):\n",
    "        x, y = batch\n",
    "        out = self.forward(x)\n",
    "        return F.mse_loss(out, y)\n",
    "\n",
    "    def training_step(self, batch, batch_idx):\n",
    "        loss = self._step(batch)\n",
    "        result = pl.TrainResult(loss)\n",
    "        result.log('train_loss', loss)\n",
    "        return result\n",
    "\n",
    "    def validation_step(self, val_batch, batch_idx):\n",
    "        loss = self._step(val_batch)\n",
    "        result = pl.EvalResult(checkpoint_on=loss)\n",
    "        result.log('val_loss', loss)\n",
    "        return result\n",
    "\n",
    "    def test_step(self, test_batch, batch_idx):\n",
    "        loss = self._step(test_batch)\n",
    "        result = pl.TrainResult(loss)\n",
    "        result.log('test_loss', loss)\n",
    "        return result\n",
    "    #\n",
    "    # def validation_epoch_end(self, outputs):\n",
    "    #     avg_loss = torch.stack([x['val_loss'] for x in outputs]).mean()\n",
    "    #     return {'avg_val_loss': avg_loss, 'log': {'val_loss': avg_loss}}\n",
    "    #\n",
    "    # def test_epoch_end(self, outputs):\n",
    "    #     avg_loss = torch.stack([x['test_loss'] for x in outputs]).mean()\n",
    "    #     return {'avg_test_loss': avg_loss, 'log': {'test_loss': avg_loss}}"
   ],
   "metadata": {
    "collapsed": false,
    "pycharm": {
     "name": "#%%\n"
    }
   }
  },
  {
   "cell_type": "markdown",
   "source": [
    "## Training!"
   ],
   "metadata": {
    "collapsed": false,
    "pycharm": {
     "name": "#%% md\n"
    }
   }
  },
  {
   "cell_type": "code",
   "execution_count": 532,
   "outputs": [
    {
     "name": "stderr",
     "output_type": "stream",
     "text": [
      "GPU available: False, used: False\n",
      "TPU available: False, using: 0 TPU cores\n",
      "/Users/eric/miniconda3/envs/cryptonomicon/lib/python3.8/site-packages/pytorch_lightning/utilities/distributed.py:37: UserWarning: Could not log computational graph since the `model.example_input_array` attribute is not set or `input_array` was not given\n",
      "  warnings.warn(*args, **kwargs)\n",
      "\n",
      "  | Name | Type   | Params\n",
      "--------------------------------\n",
      "0 | gru  | GRU    | 57 M  \n",
      "1 | fc   | Linear | 1 K   \n",
      "2 | relu | ReLU   | 0     \n",
      "/Users/eric/miniconda3/envs/cryptonomicon/lib/python3.8/site-packages/pytorch_lightning/utilities/distributed.py:37: UserWarning: The dataloader, val dataloader 0, does not have many workers which may be a bottleneck. Consider increasing the value of the `num_workers` argument` (try 16 which is the number of cpus on this machine) in the `DataLoader` init to improve performance.\n",
      "  warnings.warn(*args, **kwargs)\n",
      "/Users/eric/miniconda3/envs/cryptonomicon/lib/python3.8/site-packages/pytorch_lightning/utilities/distributed.py:37: UserWarning: The dataloader, train dataloader, does not have many workers which may be a bottleneck. Consider increasing the value of the `num_workers` argument` (try 16 which is the number of cpus on this machine) in the `DataLoader` init to improve performance.\n",
      "  warnings.warn(*args, **kwargs)\n",
      "/Users/eric/miniconda3/envs/cryptonomicon/lib/python3.8/site-packages/pytorch_lightning/utilities/distributed.py:37: UserWarning: Detected KeyboardInterrupt, attempting graceful shutdown...\n",
      "  warnings.warn(*args, **kwargs)\n",
      "Saving latest checkpoint..\n",
      "\n",
      "\n",
      "Profiler Report\n",
      "\n",
      "Action              \t|  Mean duration (s)\t|  Total time (s) \n",
      "-----------------------------------------------------------------\n",
      "on_validation_epoch_start\t|  1.5475e-05     \t|  1.5475e-05     \n",
      "on_validation_epoch_end\t|  1.846e-05      \t|  1.846e-05      \n",
      "on_train_start      \t|  0.020851       \t|  0.020851       \n",
      "on_epoch_start      \t|  0.0023782      \t|  0.0023782      \n",
      "on_train_epoch_start\t|  1.3766e-05     \t|  1.3766e-05     \n",
      "get_train_batch     \t|  0.085098       \t|  3.8294         \n",
      "on_batch_start      \t|  1.878e-05      \t|  0.00084508     \n",
      "on_train_batch_start\t|  6.705e-06      \t|  0.00030172     \n",
      "model_forward       \t|  0.56313        \t|  25.341         \n",
      "model_backward      \t|  5.9318         \t|  266.93         \n",
      "on_after_backward   \t|  2.7714e-06     \t|  0.00012471     \n",
      "optimizer_step      \t|  0.26227        \t|  11.802         \n",
      "on_batch_end        \t|  1.5612e-05     \t|  0.00068694     \n",
      "on_train_batch_end  \t|  0.0016511      \t|  0.072648       \n",
      "on_train_end        \t|  0.0010547      \t|  0.0010547      \n",
      "\n"
     ]
    },
    {
     "data": {
      "text/plain": "HBox(children=(FloatProgress(value=1.0, bar_style='info', description='Validation sanity check', layout=Layout…",
      "application/vnd.jupyter.widget-view+json": {
       "version_major": 2,
       "version_minor": 0,
       "model_id": "a1a41768beda43be86e206c84c0120d9"
      }
     },
     "metadata": {},
     "output_type": "display_data"
    },
    {
     "data": {
      "text/plain": "HBox(children=(FloatProgress(value=1.0, bar_style='info', description='Training', layout=Layout(flex='2'), max…",
      "application/vnd.jupyter.widget-view+json": {
       "version_major": 2,
       "version_minor": 0,
       "model_id": "f57040a4ff08420692606292e15c61f0"
      }
     },
     "metadata": {},
     "output_type": "display_data"
    },
    {
     "name": "stdout",
     "output_type": "stream",
     "text": [
      "\n"
     ]
    },
    {
     "data": {
      "text/plain": "1"
     },
     "execution_count": 532,
     "metadata": {},
     "output_type": "execute_result"
    }
   ],
   "source": [
    "pl.seed_everything(1)\n",
    "\n",
    "model = GRUNet(train_dataset=train_set,\n",
    "               val_dataset=val_set,\n",
    "               hidden_dim=1000,\n",
    "               n_layers=10)\n",
    "\n",
    "# Learning Rate Logger\n",
    "lr_logger = LearningRateLogger()\n",
    "\n",
    "# Set Early Stopping\n",
    "early_stopping = EarlyStopping('val_loss', mode='min', patience=5)\n",
    "\n",
    "trainer = pl.Trainer(max_epochs=1, profiler=True, callbacks=[lr_logger],\n",
    "                     early_stop_callback=early_stopping,\n",
    "                     # checkpoint_callback=checkpoint_callback,\n",
    "                     default_root_dir=\"../models\") #gpus=1\n",
    "\n",
    "trainer.fit(model)"
   ],
   "metadata": {
    "collapsed": false,
    "pycharm": {
     "name": "#%%\n"
    }
   }
  }
 ],
 "metadata": {
  "kernelspec": {
   "display_name": "Python 3",
   "language": "python",
   "name": "python3"
  },
  "language_info": {
   "codemirror_mode": {
    "name": "ipython",
    "version": 3
   },
   "file_extension": ".py",
   "mimetype": "text/x-python",
   "name": "python",
   "nbconvert_exporter": "python",
   "pygments_lexer": "ipython3",
   "version": "3.8.5"
  }
 },
 "nbformat": 4,
 "nbformat_minor": 4
}